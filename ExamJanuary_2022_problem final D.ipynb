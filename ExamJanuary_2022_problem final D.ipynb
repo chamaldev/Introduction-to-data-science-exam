{
 "cells": [
  {
   "cell_type": "markdown",
   "id": "3af150ce",
   "metadata": {
    "deletable": false
   },
   "source": [
    "# Exam 2021, 8.00-13.00 for the course 1MS041 (Introduction to Data Science / Introduktion till dataanalys)\n",
    "\n",
    "## Instructions:\n",
    "1. Complete the problems by following instructions.\n",
    "2. When done, submit this file with your solutions saved, following the instruction sheet.\n",
    "\n",
    "This exam has 3 problems for a total of 40 points, to pass you need\n",
    "20 points.\n",
    "\n",
    "## Some general hints and information:\n",
    "* Try to answer all questions even if you are uncertain.\n",
    "* Comment your code, so that if you get the wrong answer I can understand how you thought\n",
    "this can give you some points even though the code does not run.\n",
    "* Follow the instruction sheet rigorously.\n",
    "* This exam is partially autograded, but your code and your free text answers are manually graded anonymously.\n",
    "* If there are any questions, please ask the exam guards, they will escalate it to me if necessary.\n",
    "* I (Benny) will visit the exam room at around 10:30 to see if there are any questions.\n",
    "\n",
    "## Tips for free text answers\n",
    "* Be VERY clear with your reasoning, there should be zero ambiguity in what you are referring to.\n",
    "* If you want to include math, you can write LaTeX in the Markdown cells, for instance `$f(x)=x^2$` will be rendered as $f(x)=x^2$ and `$$f(x) = x^2$$` will become an equation line, as follows\n",
    "$$f(x) = x^2$$\n",
    "Another example is `$$f_{Y \\mid X}(y,x) = P(Y = y \\mid X = x) = \\exp(\\alpha \\cdot x + \\beta)$$` which renders as\n",
    "$$f_{Y \\mid X}(y,x) = P(Y = y \\mid X = x) = \\exp(\\alpha \\cdot x + \\beta)$$\n",
    "\n",
    "## Finally some rules:\n",
    "* You may not communicate with others during the exam, for example:\n",
    "    * You cannot ask for help in Stack-Overflow or other such help forums during the Exam.\n",
    "    * You may not communicate with AI's, for instance ChatGPT.\n",
    "    * Your on-line and off-line activity is being monitored according to the examination rules.\n",
    "\n",
    "## Good luck!"
   ]
  },
  {
   "cell_type": "code",
   "execution_count": null,
   "id": "6a87c0aa",
   "metadata": {
    "deletable": false
   },
   "outputs": [],
   "source": [
    "# Insert your anonymous exam ID as a string in the variable below\n",
    "examID=\"XXX\"\n"
   ]
  },
  {
   "cell_type": "markdown",
   "id": "7e0803f8",
   "metadata": {
    "deletable": false,
    "lx_assignment_number": "vB",
    "lx_assignment_type": "EXAM",
    "lx_assignment_type2print": "Exam",
    "lx_problem_cell_type": "PROBLEM",
    "lx_problem_number": "1",
    "lx_problem_points": "8"
   },
   "source": [
    "---\n",
    "## Exam vB, PROBLEM 1\n",
    "Maximum Points = 8"
   ]
  },
  {
   "cell_type": "markdown",
   "id": "58c0b006",
   "metadata": {
    "deletable": false,
    "lx_assignment_number": "vB",
    "lx_assignment_type": "EXAM",
    "lx_assignment_type2print": "Exam",
    "lx_problem_cell_type": "PROBLEM",
    "lx_problem_number": "1",
    "lx_problem_points": "8"
   },
   "source": [
    "\n",
    "## Probability warmup\n",
    "Let's say we have an exam question which consists of $20$ yes/no questions. \n",
    "From past performance of similar students, a randomly chosen student will know the correct answer to $N \\sim \\text{binom}(20,11/20)$ questions. Furthermore, we assume that the student will guess the answer with equal probability to each question they don't know the answer to, i.e. given $N$ we define $Z \\sim \\text{binom}(20-N,1/2)$ as the number of correctly guessed answers. Define $Y = N + Z$, i.e., $Y$ represents the number of total correct answers.\n",
    "\n",
    "We are interested in setting a deterministic threshold $T$, i.e., we would pass a student at threshold $T$ if $Y \\geq T$. Here $T \\in \\{0,1,2,\\ldots,20\\}$.\n",
    "\n",
    "1. [5p] For each threshold $T$, compute the probability that the student *knows* less than $10$ correct answers given that the student passed, i.e., $N < 10$. Put the answer in `problem11_probabilities` as a list.\n",
    "2. [3p] What is the smallest value of $T$ such that if $Y \\geq T$ then we are 90\\% certain that $N \\geq 10$?"
   ]
  },
  {
   "cell_type": "code",
   "execution_count": 1,
   "id": "ee1990ab",
   "metadata": {
    "deletable": false,
    "lx_assignment_number": "vB",
    "lx_assignment_type": "EXAM",
    "lx_assignment_type2print": "Exam",
    "lx_problem_cell_type": "PROBLEM",
    "lx_problem_number": "1",
    "lx_problem_points": "8"
   },
   "outputs": [
    {
     "data": {
      "text/plain": [
       "[0.24928935982841186,\n",
       " 0.24928935982832884,\n",
       " 0.24928935982261047,\n",
       " 0.24928935963549276,\n",
       " 0.2492893557683933,\n",
       " 0.24928929915834963,\n",
       " 0.2492886751893025,\n",
       " 0.24928330207958455,\n",
       " 0.2492462852336602,\n",
       " 0.24903902630299055,\n",
       " 0.24808569900431432,\n",
       " 0.24460820014975931,\n",
       " 0.2349439695781523,\n",
       " 0.21475641513175905,\n",
       " 0.1826713919662099,\n",
       " 0.14272522447072042,\n",
       " 0.10227042692681909,\n",
       " 0.06762809950564572,\n",
       " 0.04166472439122743,\n",
       " 0.024151134340423368,\n",
       " 0.013287462679601604]"
      ]
     },
     "execution_count": 1,
     "metadata": {},
     "output_type": "execute_result"
    }
   ],
   "source": [
    "\n",
    "# Hint the PMF of N is p_N(k) where p_N is\n",
    "from scipy.special import binom as binomial\n",
    "p = 11/20\n",
    "q = 1/2\n",
    "p_N = lambda k: binomial(20,k)*((1-p)**(20-k))*((p)**k)\n",
    "p_Z = lambda k, n: binomial(20-n,k)*((1-q)**(20-n-k))*((q)**k)\n",
    "\n",
    "problem11_probabilities = []\n",
    "for t in range(0,21):  #t is the threshold value\n",
    "    sum_1=0\n",
    "    sum_2=0\n",
    "    for n in range (0,10):  #N<10\n",
    "        for z in range (t-n, 20-n+1):\n",
    "            sum_1 = sum_1 + p_N(n)*p_Z(z,n)\n",
    "    \n",
    "    for n in range (0,21):  #All questions\n",
    "        for z in range (t-n, 20-n+1):\n",
    "            sum_2 = sum_2 + p_N(n)*p_Z(z,n)\n",
    "    sum = sum_1/sum_2\n",
    "            \n",
    "    problem11_probabilities.append(sum)\n",
    "    \n",
    "problem11_probabilities"
   ]
  },
  {
   "cell_type": "code",
   "execution_count": 2,
   "id": "21189865",
   "metadata": {
    "deletable": false,
    "lx_assignment_number": "vB",
    "lx_assignment_type": "EXAM",
    "lx_assignment_type2print": "Exam",
    "lx_problem_cell_type": "PROBLEM",
    "lx_problem_number": "1",
    "lx_problem_points": "8"
   },
   "outputs": [],
   "source": [
    "# Part 1: \n",
    "# replace XXX to represent P(N < 10) for T = [0,1,2,...,20], i.e. your answer should be a list\n",
    "# of length 21.\n",
    "problem11_probabilities = [0.24928935982841186,0.24928935982832884,0.24928935982261047,0.24928935963549276,0.2492893557683933,0.24928929915834963,0.2492886751893025,0.24928330207958455,0.2492462852336602,0.24903902630299055,0.24808569900431432,0.24460820014975931,0.2349439695781523,0.21475641513175905,0.1826713919662099,0.14272522447072042,0.10227042692681909,0.06762809950564572,0.04166472439122743,0.024151134340423368,0.013287462679601604]"
   ]
  },
  {
   "cell_type": "code",
   "execution_count": null,
   "id": "fbdf94f0",
   "metadata": {
    "deletable": false,
    "lx_assignment_number": "vB",
    "lx_assignment_type": "EXAM",
    "lx_assignment_type2print": "Exam",
    "lx_problem_cell_type": "PROBLEM",
    "lx_problem_number": "1",
    "lx_problem_points": "8"
   },
   "outputs": [],
   "source": [
    "\n",
    "# Part 2: Give an integer between 0 and 20 which is the answer to 2.\n",
    "problem12_T = 17  #exclude below 0.1 (because 90%) values from above 21 "
   ]
  },
  {
   "cell_type": "markdown",
   "id": "ba061a0a",
   "metadata": {
    "deletable": false,
    "lx_assignment_number": "vB",
    "lx_assignment_type": "EXAM",
    "lx_assignment_type2print": "Exam",
    "lx_problem_cell_type": "PROBLEM",
    "lx_problem_number": "2",
    "lx_problem_points": "8"
   },
   "source": [
    "---\n",
    "## Exam vB, PROBLEM 2\n",
    "Maximum Points = 8"
   ]
  },
  {
   "cell_type": "markdown",
   "id": "e65bbdf6",
   "metadata": {
    "deletable": false,
    "lx_assignment_number": "vB",
    "lx_assignment_type": "EXAM",
    "lx_assignment_type2print": "Exam",
    "lx_problem_cell_type": "PROBLEM",
    "lx_problem_number": "2",
    "lx_problem_points": "8"
   },
   "source": [
    "\n",
    "## Random variable generation and transformation\n",
    "\n",
    "The purpose of this problem is to show that you can implement your own sampler, this will be built in the following three steps:\n",
    "\n",
    "1. [2p] Implement a Linear Congruential Generator where you tested out a good combination (a large $M$ with $a,b$ satisfying the Hull-Dobell (Thm 6.8)) of parameters. Follow the instructions in the code block.\n",
    "2. [2p] Using a generator construct random numbers from the uniform $[0,1]$ distribution.\n",
    "3. [4p] Using a uniform $[0,1]$ random generator, generate samples from \n",
    "\n",
    "$$p_0(x) = \\frac{\\pi}{2}|\\sin(2\\pi x)|, \\quad x \\in [0,1] \\enspace .$$\n",
    "\n",
    "Using the **Accept-Reject** sampler (**Algorithm 1** in TFDS notes) with sampling density given by the uniform $[0,1]$ distribution."
   ]
  },
  {
   "cell_type": "code",
   "execution_count": 22,
   "id": "3449666b",
   "metadata": {
    "deletable": false,
    "lx_assignment_number": "vB",
    "lx_assignment_type": "EXAM",
    "lx_assignment_type2print": "Exam",
    "lx_problem_cell_type": "PROBLEM",
    "lx_problem_number": "2",
    "lx_problem_points": "8"
   },
   "outputs": [
    {
     "name": "stdout",
     "output_type": "stream",
     "text": [
      "[0.2523451747838408, 0.08812504541128874, 0.5772811982315034, 0.22255426598712802, 0.37566019711084664, 0.02566390484571457, 0.4472812858875841, 0.1184600037522614, 0.8738137057516724, 0.9946342753246427]\n"
     ]
    }
   ],
   "source": [
    "\n",
    "def problem2_LCG(size=None, seed = 0):\n",
    "    \"\"\"\n",
    "    A linear congruential generator that generates pseudo random numbers according to size.\n",
    "    \n",
    "    Parameters\n",
    "    -------------\n",
    "    size : an integer denoting how many samples should be produced\n",
    "    seed : the starting point of the LCG, i.e. u0 in the notes.\n",
    "    \n",
    "    Returns\n",
    "    -------------\n",
    "    out : a list of the pseudo random numbers\n",
    "    \"\"\"\n",
    "    a = 1664525\n",
    "    b = 1013904223\n",
    "    M = 2**32\n",
    "    \n",
    "    state = seed\n",
    "    \n",
    "    pseudo_random_numbers = []\n",
    "    \n",
    "    for _ in range(size):\n",
    "        state = (a * state + b) % M\n",
    "        pseudo_random_numbers.append(state / M)\n",
    "    \n",
    "    return pseudo_random_numbers\n",
    "\n",
    "size = 10\n",
    "seed = 42\n",
    "\n",
    "random_numbers = problem2_LCG(size, seed)\n",
    "print(random_numbers)"
   ]
  },
  {
   "cell_type": "code",
   "execution_count": 5,
   "id": "c7955134",
   "metadata": {
    "deletable": false,
    "lx_assignment_number": "vB",
    "lx_assignment_type": "EXAM",
    "lx_assignment_type2print": "Exam",
    "lx_problem_cell_type": "PROBLEM",
    "lx_problem_number": "2",
    "lx_problem_points": "8"
   },
   "outputs": [
    {
     "name": "stdout",
     "output_type": "stream",
     "text": [
      "[5.875368946786988e-11, 2.0518211045136847e-11, 1.3440875295351803e-10, 5.181745299769752e-11, 8.746520548845796e-11, 5.975343483899387e-12, 1.0414078968753668e-10, 2.7581118920878833e-11, 2.0345060754373492e-10, 2.3158133852403673e-10]\n"
     ]
    }
   ],
   "source": [
    "\n",
    "def problem2_uniform(generator=None, period = 1, size=None, seed=0):\n",
    "    \"\"\"\n",
    "    Takes a generator and produces samples from the uniform [0,1] distribution according\n",
    "    to size.\n",
    "    \n",
    "    Parameters\n",
    "    -------------\n",
    "    generator : a function of type generator(size,seed) and produces the same result as problem2_LCG, i.e. pseudo random numbers in the range {0,1,...,period-1}\n",
    "    period : the period of the generator\n",
    "    seed : the seed to be used in the generator provided\n",
    "    size : an integer denoting how many samples should be produced\n",
    "    \n",
    "    Returns\n",
    "    --------------\n",
    "    out : a list of the uniform pseudo random numbers\n",
    "    \"\"\"\n",
    "    \n",
    "    random_generator = generator(size=size, seed=seed)\n",
    "    \n",
    "    random_generator = iter(random_generator)\n",
    "    \n",
    "    uniform_random_numbers = []\n",
    "    \n",
    "    for _ in range(size):\n",
    "        \n",
    "        pseudo_random_number = next(random_generator)\n",
    "        \n",
    "        uniform_random_number = pseudo_random_number / period\n",
    "        \n",
    "        uniform_random_numbers.append(uniform_random_number)\n",
    "    \n",
    "    return uniform_random_numbers\n",
    "\n",
    "size = 10\n",
    "seed = 42\n",
    "period = 2**32\n",
    "\n",
    "uniform_numbers = problem2_uniform(problem2_LCG, period, size, seed)\n",
    "print(uniform_numbers)"
   ]
  },
  {
   "cell_type": "code",
   "execution_count": 4,
   "id": "af77a695",
   "metadata": {
    "deletable": false,
    "lx_assignment_number": "vB",
    "lx_assignment_type": "EXAM",
    "lx_assignment_type2print": "Exam",
    "lx_problem_cell_type": "PROBLEM",
    "lx_problem_number": "2",
    "lx_problem_points": "8"
   },
   "outputs": [
    {
     "name": "stdout",
     "output_type": "stream",
     "text": [
      "[0.6394267984578837, 0.27502931836911926, 0.22321073814882275, 0.7364712141640124, 0.6766994874229113, 0.8921795677048454, 0.08693883262941615, 0.029797219438070344]\n"
     ]
    }
   ],
   "source": [
    "import random\n",
    "import math\n",
    "def problem2_accept_reject(uniformGenerator=None, size=None, seed=0):\n",
    "    \"\"\"\n",
    "    Takes a generator that produces uniform pseudo random [0,1] numbers \n",
    "    and produces samples from (pi/2)*abs(sin(x*2*pi)) using an Accept-Reject\n",
    "    sampler with the uniform distribution as the proposal distribution\n",
    "    \n",
    "    Parameters\n",
    "    -------------\n",
    "    generator : a function of the type generator(size,seed) that produces uniform pseudo random\n",
    "    numbers from [0,1]\n",
    "    seed : the seed to be used in the generator provided\n",
    "    size : an integer denoting how many samples should be produced\n",
    "    \n",
    "    Returns\n",
    "    --------------\n",
    "    out : a list of the pseudo random numbers with the specified distribution\n",
    "    \"\"\"\n",
    "    \n",
    "    uniform_generator = uniformGenerator(size=n_iterations, seed=seed)\n",
    "    \n",
    "    uniform_generator = iter(uniform_generator)\n",
    "    \n",
    "    accepted_samples = []\n",
    "    \n",
    "    while len(accepted_samples) < n_iterations:\n",
    "        try:\n",
    "            x = next(uniform_generator)\n",
    "            \n",
    "            u = random.random()\n",
    "            \n",
    "            p0_x = (math.pi / 2) * abs(math.sin(2 * math.pi * x))\n",
    "            \n",
    "            if u <= p0_x:\n",
    "                accepted_samples.append(x)\n",
    "        except StopIteration:\n",
    "            break\n",
    "    \n",
    "    return accepted_samples\n",
    "\n",
    "n_iterations = 10\n",
    "seed = 42\n",
    "\n",
    "def uniform_generator(size, seed):\n",
    "    random.seed(seed)\n",
    "    return [random.random() for _ in range(size)]\n",
    "\n",
    "accepted_samples = problem2_accept_reject(uniform_generator, n_iterations, seed)\n",
    "print(accepted_samples)"
   ]
  },
  {
   "cell_type": "markdown",
   "id": "599292ac",
   "metadata": {
    "deletable": false,
    "lx_assignment_number": "vB",
    "lx_assignment_type": "EXAM",
    "lx_assignment_type2print": "Exam",
    "lx_problem_cell_type": "Test",
    "lx_problem_number": "2",
    "lx_problem_points": "8"
   },
   "source": [
    "---\n",
    "#### Local Test for Exam vB, PROBLEM 2\n",
    "Evaluate cell below to make sure your answer is valid.                             You **should not** modify anything in the cell below when evaluating it to do a local test of                             your solution.\n",
    "You may need to include and evaluate code snippets from lecture notebooks in cells above to make the local test work correctly sometimes (see error messages for clues). This is meant to help you become efficient at recalling materials covered in lectures that relate to this problem. Such local tests will generally not be available in the exam."
   ]
  },
  {
   "cell_type": "code",
   "execution_count": 5,
   "id": "32c53dd8",
   "metadata": {
    "deletable": false,
    "lx_assignment_number": "vB",
    "lx_assignment_type": "EXAM",
    "lx_assignment_type2print": "Exam",
    "lx_problem_cell_type": "Test",
    "lx_problem_number": "2",
    "lx_problem_points": "8"
   },
   "outputs": [
    {
     "name": "stdout",
     "output_type": "stream",
     "text": [
      "LCG output: [0.23645552527159452, 0.3692706737201661, 0.5042420323006809, 0.7048832636792213, 0.05054362863302231, 0.3695183543022722, 0.7747629624791443, 0.556188570568338, 0.0164932357147336, 0.6392460397910327]\n"
     ]
    },
    {
     "ename": "NameError",
     "evalue": "name 'problem2_uniform' is not defined",
     "output_type": "error",
     "traceback": [
      "\u001b[0;31m---------------------------------------------------------------------------\u001b[0m",
      "\u001b[0;31mNameError\u001b[0m                                 Traceback (most recent call last)",
      "Cell \u001b[0;32mIn[5], line 10\u001b[0m\n\u001b[1;32m      6\u001b[0m \u001b[38;5;28mprint\u001b[39m(\u001b[38;5;124m\"\u001b[39m\u001b[38;5;124mLCG output: \u001b[39m\u001b[38;5;132;01m%s\u001b[39;00m\u001b[38;5;124m\"\u001b[39m \u001b[38;5;241m%\u001b[39m problem2_LCG(size\u001b[38;5;241m=\u001b[39m\u001b[38;5;241m10\u001b[39m, seed \u001b[38;5;241m=\u001b[39m \u001b[38;5;241m1\u001b[39m))\n\u001b[1;32m      8\u001b[0m period \u001b[38;5;241m=\u001b[39m \u001b[38;5;241m2\u001b[39m\u001b[38;5;241m*\u001b[39m\u001b[38;5;241m*\u001b[39m\u001b[38;5;241m32\u001b[39m\n\u001b[0;32m---> 10\u001b[0m \u001b[38;5;28mprint\u001b[39m(\u001b[38;5;124m\"\u001b[39m\u001b[38;5;124mUniform sampler \u001b[39m\u001b[38;5;132;01m%s\u001b[39;00m\u001b[38;5;124m\"\u001b[39m \u001b[38;5;241m%\u001b[39m \u001b[43mproblem2_uniform\u001b[49m(generator\u001b[38;5;241m=\u001b[39mproblem2_LCG, period \u001b[38;5;241m=\u001b[39m period, size\u001b[38;5;241m=\u001b[39m\u001b[38;5;241m10\u001b[39m, seed\u001b[38;5;241m=\u001b[39m\u001b[38;5;241m1\u001b[39m))\n\u001b[1;32m     12\u001b[0m uniform_sampler \u001b[38;5;241m=\u001b[39m \u001b[38;5;28;01mlambda\u001b[39;00m size,seed: problem2_uniform(generator\u001b[38;5;241m=\u001b[39mproblem2_LCG, period \u001b[38;5;241m=\u001b[39m period, size\u001b[38;5;241m=\u001b[39msize, seed\u001b[38;5;241m=\u001b[39mseed)\n\u001b[1;32m     14\u001b[0m \u001b[38;5;28mprint\u001b[39m(\u001b[38;5;124m\"\u001b[39m\u001b[38;5;124mAccept-Reject sampler \u001b[39m\u001b[38;5;132;01m%s\u001b[39;00m\u001b[38;5;124m\"\u001b[39m \u001b[38;5;241m%\u001b[39m problem2_accept_reject(uniformGenerator \u001b[38;5;241m=\u001b[39m uniform_sampler,n_iterations\u001b[38;5;241m=\u001b[39m\u001b[38;5;241m20\u001b[39m,seed\u001b[38;5;241m=\u001b[39m\u001b[38;5;241m1\u001b[39m))\n",
      "\u001b[0;31mNameError\u001b[0m: name 'problem2_uniform' is not defined"
     ]
    }
   ],
   "source": [
    "\n",
    "# If you managed to solve all three parts you can test the following code to see if it runs\n",
    "# you have to change the period to match your LCG though, this is marked as XXX.\n",
    "# It is a very good idea to check these things using the histogram function in sagemath\n",
    "# try with a larger number of samples, up to 10000 should run\n",
    "\n",
    "print(\"LCG output: %s\" % problem2_LCG(size=10, seed = 1))\n",
    "\n",
    "period = 2**32\n",
    "\n",
    "print(\"Uniform sampler %s\" % problem2_uniform(generator=problem2_LCG, period = period, size=10, seed=1))\n",
    "\n",
    "uniform_sampler = lambda size,seed: problem2_uniform(generator=problem2_LCG, period = period, size=size, seed=seed)\n",
    "\n",
    "print(\"Accept-Reject sampler %s\" % problem2_accept_reject(uniformGenerator = uniform_sampler,n_iterations=20,seed=1))"
   ]
  },
  {
   "cell_type": "code",
   "execution_count": 6,
   "id": "64b1a8c1",
   "metadata": {
    "deletable": false,
    "lx_assignment_number": "vB",
    "lx_assignment_type": "EXAM",
    "lx_assignment_type2print": "Exam",
    "lx_problem_cell_type": "Test",
    "lx_problem_number": "2",
    "lx_problem_points": "8"
   },
   "outputs": [
    {
     "ename": "TypeError",
     "evalue": "problem2_accept_reject() got an unexpected keyword argument 'n_iterations'",
     "output_type": "error",
     "traceback": [
      "\u001b[0;31m---------------------------------------------------------------------------\u001b[0m",
      "\u001b[0;31mTypeError\u001b[0m                                 Traceback (most recent call last)",
      "Cell \u001b[0;32mIn[6], line 8\u001b[0m\n\u001b[1;32m      4\u001b[0m     set_random_seed(seed)\n\u001b[1;32m      6\u001b[0m     \u001b[38;5;28;01mreturn\u001b[39;00m [random() \u001b[38;5;28;01mfor\u001b[39;00m s \u001b[38;5;129;01min\u001b[39;00m \u001b[38;5;28mrange\u001b[39m(size)]\n\u001b[0;32m----> 8\u001b[0m \u001b[38;5;28mprint\u001b[39m(\u001b[38;5;124m\"\u001b[39m\u001b[38;5;124mAccept-Reject sampler \u001b[39m\u001b[38;5;132;01m%s\u001b[39;00m\u001b[38;5;124m\"\u001b[39m \u001b[38;5;241m%\u001b[39m \u001b[43mproblem2_accept_reject\u001b[49m\u001b[43m(\u001b[49m\u001b[43muniformGenerator\u001b[49m\u001b[38;5;241;43m=\u001b[39;49m\u001b[43mtestUniformGenerator\u001b[49m\u001b[43m,\u001b[49m\u001b[43m \u001b[49m\u001b[43mn_iterations\u001b[49m\u001b[38;5;241;43m=\u001b[39;49m\u001b[38;5;241;43m20\u001b[39;49m\u001b[43m,\u001b[49m\u001b[43m \u001b[49m\u001b[43mseed\u001b[49m\u001b[38;5;241;43m=\u001b[39;49m\u001b[38;5;241;43m1\u001b[39;49m\u001b[43m)\u001b[49m)\n",
      "\u001b[0;31mTypeError\u001b[0m: problem2_accept_reject() got an unexpected keyword argument 'n_iterations'"
     ]
    }
   ],
   "source": [
    "\n",
    "# If however you did not manage to implement either part 1 or part 2 but still want to check part 3, you can run the code below\n",
    "\n",
    "def testUniformGenerator(size,seed):\n",
    "    set_random_seed(seed)\n",
    "    \n",
    "    return [random() for s in range(size)]\n",
    "\n",
    "print(\"Accept-Reject sampler %s\" % problem2_accept_reject(uniformGenerator=testUniformGenerator, n_iterations=20, seed=1))"
   ]
  },
  {
   "cell_type": "markdown",
   "id": "9848ffea",
   "metadata": {
    "deletable": false,
    "lx_assignment_number": "vB",
    "lx_assignment_type": "EXAM",
    "lx_assignment_type2print": "Exam",
    "lx_problem_cell_type": "PROBLEM",
    "lx_problem_number": "3",
    "lx_problem_points": "8"
   },
   "source": [
    "---\n",
    "## Exam vB, PROBLEM 3\n",
    "Maximum Points = 8"
   ]
  },
  {
   "cell_type": "markdown",
   "id": "6fe7b29f",
   "metadata": {
    "deletable": false,
    "lx_assignment_number": "vB",
    "lx_assignment_type": "EXAM",
    "lx_assignment_type2print": "Exam",
    "lx_problem_cell_type": "PROBLEM",
    "lx_problem_number": "3",
    "lx_problem_points": "8"
   },
   "source": [
    "\n",
    "## Concentration of measure\n",
    "\n",
    "As you recall, we said that concentration of measure was simply the phenomenon where we expect that the probability of a large deviation of some quantity becoming smaller as we observe more samples: [0.4 points per correct answer]\n",
    "\n",
    "1. Which of the following will exponentially concentrate, i.e. for some $C_1,C_2,C_3,C_4 $ \n",
    "$$\n",
    "    P(Z - \\mathbb{E}[Z] \\geq \\epsilon) \\leq C_1 e^{-C_2 n \\epsilon^2} \\wedge C_3 e^{-C_4 n (\\epsilon+1)} \\enspace .\n",
    "$$\n",
    "\n",
    "    1. The empirical mean of i.i.d. sub-Gaussian random variables?\n",
    "    2. The empirical mean of i.i.d. sub-Exponential random variables?\n",
    "    3. The empirical mean of i.i.d. random variables with finite variance?\n",
    "    4. The empirical variance of i.i.d. random variables with finite variance?\n",
    "    5. The empirical variance of i.i.d. sub-Gaussian random variables?\n",
    "    6. The empirical variance of i.i.d. sub-Exponential random variables?\n",
    "    7. The empirical third moment of i.i.d. sub-Gaussian random variables?\n",
    "    8. The empirical fourth moment of i.i.d. sub-Gaussian random variables?\n",
    "    9. The empirical mean of i.i.d. deterministic random variables?\n",
    "    10. The empirical tenth moment of i.i.d. Bernoulli random variables?\n",
    "\n",
    "2. Which of the above will concentrate in the weaker sense, that for some $C_1$\n",
    "$$\n",
    "    P(Z - \\mathbb{E}[Z] \\geq \\epsilon) \\leq \\frac{C_1}{n \\epsilon^2}?\n",
    "$$"
   ]
  },
  {
   "cell_type": "code",
   "execution_count": null,
   "id": "593fba5a",
   "metadata": {
    "deletable": false,
    "lx_assignment_number": "vB",
    "lx_assignment_type": "EXAM",
    "lx_assignment_type2print": "Exam",
    "lx_problem_cell_type": "PROBLEM",
    "lx_problem_number": "3",
    "lx_problem_points": "8"
   },
   "outputs": [],
   "source": [
    "\n",
    "# Answers to part 1, which of the alternatives exponentially concentrate, answer as a list\n",
    "# i.e. [1,4,5] that is example 1, 4, and 5 concentrate\n",
    "problem3_answer_1 = [XXX]"
   ]
  },
  {
   "cell_type": "code",
   "execution_count": null,
   "id": "4a11def9",
   "metadata": {
    "deletable": false,
    "lx_assignment_number": "vB",
    "lx_assignment_type": "EXAM",
    "lx_assignment_type2print": "Exam",
    "lx_problem_cell_type": "PROBLEM",
    "lx_problem_number": "3",
    "lx_problem_points": "8"
   },
   "outputs": [],
   "source": [
    "\n",
    "# Answers to part 2, which of the alternatives concentrate in the weaker sense, answer as a list\n",
    "# i.e. [1,4,5] that is example 1, 4, and 5 concentrate\n",
    "problem3_answer_2 = [XXX]"
   ]
  },
  {
   "cell_type": "markdown",
   "id": "6876a583",
   "metadata": {
    "deletable": false,
    "lx_assignment_number": "vB",
    "lx_assignment_type": "EXAM",
    "lx_assignment_type2print": "Exam",
    "lx_problem_cell_type": "PROBLEM",
    "lx_problem_number": "4",
    "lx_problem_points": "8"
   },
   "source": [
    "---\n",
    "## Exam vB, PROBLEM 4\n",
    "Maximum Points = 8"
   ]
  },
  {
   "cell_type": "markdown",
   "id": "46c6266e",
   "metadata": {
    "deletable": false,
    "lx_assignment_number": "vB",
    "lx_assignment_type": "EXAM",
    "lx_assignment_type2print": "Exam",
    "lx_problem_cell_type": "PROBLEM",
    "lx_problem_number": "4",
    "lx_problem_points": "8"
   },
   "source": [
    "\n",
    "## SMS spam filtering [8p]\n",
    "\n",
    "In the following problem we will explore SMS spam texts. The dataset is the `SMS Spam Collection Dataset` and we have provided for you a way to load the data. If you run the appropriate cell below, the result will be in the `spam_no_spam` variable. The result is a `list` of `tuples` with the first position in the tuple being the SMS text and the second being a flag `0 = not spam` and `1 = spam`.\n",
    "\n",
    "1. [3p] Let $X$ be the random variable that represents each SMS text (an entry in the list), and let $Y$ represent whether text is spam or not i.e. $Y \\in \\{0,1\\}$. Thus $\\mathbb{P}(Y = 1)$ is the probability that we get a spam. The goal is to estimate:\n",
    "$$\n",
    "    \\mathbb{P}(Y = 1 | \\text{\"free\" or \"prize\" is in } X) \\enspace .\n",
    "$$\n",
    "That is, the probability that the SMS is spam given that \"free\" or \"prize\" occurs in the SMS. \n",
    "Hint: it is good to remove the upper/lower case of words so that we can also find \"Free\" and \"Prize\"; this can be done with `text.lower()` if `text` a string.\n",
    "2. [3p] Provide a \"90\\%\" interval of confidence around the true probability. I.e. use the Hoeffding inequality to obtain for your estimate $\\hat P$ of the above quantity. Find $l > 0$ such that the following holds:\n",
    "$$\n",
    "    \\mathbb{P}(\\hat P - l \\leq \\mathbb{E}[\\hat P] \\leq \\hat P + l) \\geq 0.9 \\enspace .\n",
    "$$\n",
    "3. [2p] Repeat the two exercises above for \"free\" appearing twice in the SMS."
   ]
  },
  {
   "cell_type": "code",
   "execution_count": 7,
   "id": "0c86b4ce",
   "metadata": {
    "deletable": false,
    "lx_assignment_number": "vB",
    "lx_assignment_type": "EXAM",
    "lx_assignment_type2print": "Exam",
    "lx_problem_cell_type": "PROBLEM",
    "lx_problem_number": "4",
    "lx_problem_points": "8"
   },
   "outputs": [],
   "source": [
    "\n",
    "# Run this cell to get the SMS text data\n",
    "#from exam_extras import load_sms\n",
    "#spam_no_spam = load_sms()\n",
    "\n",
    "#since we have not exam_extars to do this, loaded below csv file\n",
    "\n",
    "def load_sms():\n",
    "    import csv\n",
    "    lines = []\n",
    "    hamspam = {'ham': 0, 'spam': 1}\n",
    "    with open('data/spam.csv', mode='r', encoding='latin-1') as f:\n",
    "        reader = csv.reader(f)\n",
    "        # When using the csv reader, each time you use the function\n",
    "        # next on it, it will spit out a list split at the ','\n",
    "        header = next(reader)\n",
    "        # We store this as (\"txt\",label), where we have used the function\n",
    "        # hamspam to convert from \"ham\",\"spam\" to 0 and 1.\n",
    "        lines = [(line[1],hamspam[line[0]]) for line in reader]\n",
    "        \n",
    "    return lines\n",
    "\n",
    "spam_no_spam = load_sms()"
   ]
  },
  {
   "cell_type": "code",
   "execution_count": 8,
   "id": "3da0f279",
   "metadata": {
    "deletable": false,
    "lx_assignment_number": "vB",
    "lx_assignment_type": "EXAM",
    "lx_assignment_type2print": "Exam",
    "lx_problem_cell_type": "PROBLEM",
    "lx_problem_number": "4",
    "lx_problem_points": "8"
   },
   "outputs": [
    {
     "data": {
      "text/plain": [
       "0.812"
      ]
     },
     "execution_count": 8,
     "metadata": {},
     "output_type": "execute_result"
    }
   ],
   "source": [
    "\n",
    "# fill in the estimate for part 1 here (should be a number between 0 and 1)\n",
    "import numpy as np\n",
    "interesting_words=set(['free','prize'])\n",
    "TF10 = {True: 1, False: 0}\n",
    "Z_obs = [TF10[not interesting_words.isdisjoint([word.lower() for word in line[0].split(' ')])] for line in spam_no_spam]\n",
    "Y_obs = [y for x,y in spam_no_spam]\n",
    "problem4_hatP=np.mean([y for z,y in zip(Z_obs,Y_obs) if z == 1])\n",
    "problem4_hatP"
   ]
  },
  {
   "cell_type": "code",
   "execution_count": 9,
   "id": "8c72cc4e",
   "metadata": {
    "deletable": false,
    "lx_assignment_number": "vB",
    "lx_assignment_type": "EXAM",
    "lx_assignment_type2print": "Exam",
    "lx_problem_cell_type": "PROBLEM",
    "lx_problem_number": "4",
    "lx_problem_points": "8"
   },
   "outputs": [
    {
     "name": "stdout",
     "output_type": "stream",
     "text": [
      "0.07740455120409899\n"
     ]
    }
   ],
   "source": [
    "\n",
    "# fill in the calculated l from part 2 here\n",
    "def epsilon_bernoulli(n,alpha):\n",
    "    return np.sqrt(-1/(2*n)*np.log((alpha)/2))\n",
    "\n",
    "Y_mid_Z1 = [y for z,y in zip(Z_obs,Y_obs) if z == 1]\n",
    "problem4_l = epsilon_bernoulli(len(Y_mid_Z1),0.1)   #if the confidence interval = 90%, needs to consider 0.1 here\n",
    "print (problem4_l)\n",
    "#print(\"[%.3f,%.3f]\" % (problem4_hatP-epsilon,problem4_hatP+epsilon))   #this is used to find the confidence interval"
   ]
  },
  {
   "cell_type": "code",
   "execution_count": 10,
   "id": "b100e5ea",
   "metadata": {
    "deletable": false,
    "lx_assignment_number": "vB",
    "lx_assignment_type": "EXAM",
    "lx_assignment_type2print": "Exam",
    "lx_problem_cell_type": "PROBLEM",
    "lx_problem_number": "4",
    "lx_problem_points": "8"
   },
   "outputs": [
    {
     "data": {
      "text/plain": [
       "0.7626262626262627"
      ]
     },
     "execution_count": 10,
     "metadata": {},
     "output_type": "execute_result"
    }
   ],
   "source": [
    "\n",
    "# fill in the estimate for hatP for the double free question in part 3 here (should be a number between 0 and 1)\n",
    "interesting_words=set(['free','free'])\n",
    "TF10 = {True: 1, False: 0}\n",
    "Z_obs2 = [TF10[not interesting_words.isdisjoint([word.lower() for word in line[0].split(' ')])] for line in spam_no_spam]\n",
    "Y_obs2 = [y for x,y in spam_no_spam]\n",
    "problem4_hatP2=np.mean([y for z,y in zip(Z_obs2,Y_obs2) if z == 1])\n",
    "problem4_hatP2"
   ]
  },
  {
   "cell_type": "code",
   "execution_count": 11,
   "id": "8d19289d",
   "metadata": {
    "deletable": false,
    "lx_assignment_number": "vB",
    "lx_assignment_type": "EXAM",
    "lx_assignment_type2print": "Exam",
    "lx_problem_cell_type": "PROBLEM",
    "lx_problem_number": "4",
    "lx_problem_points": "8"
   },
   "outputs": [
    {
     "data": {
      "text/plain": [
       "0.08697689629305419"
      ]
     },
     "execution_count": 11,
     "metadata": {},
     "output_type": "execute_result"
    }
   ],
   "source": [
    "\n",
    "# fill in the estimate for l for the double free question in part 3 here\n",
    "Y_mid_Z2= [y for z,y in zip(Z_obs2,Y_obs2) if z == 1]\n",
    "problem4_l2 = epsilon_bernoulli(len(Y_mid_Z2),0.1)\n",
    "problem4_l2"
   ]
  },
  {
   "cell_type": "markdown",
   "id": "34a7d777",
   "metadata": {
    "deletable": false,
    "lx_assignment_number": "vB",
    "lx_assignment_type": "EXAM",
    "lx_assignment_type2print": "Exam",
    "lx_problem_cell_type": "PROBLEM",
    "lx_problem_number": "5",
    "lx_problem_points": "8"
   },
   "source": [
    "---\n",
    "## Exam vB, PROBLEM 5\n",
    "Maximum Points = 8"
   ]
  },
  {
   "cell_type": "markdown",
   "id": "2d7e686c",
   "metadata": {
    "deletable": false,
    "lx_assignment_number": "vB",
    "lx_assignment_type": "EXAM",
    "lx_assignment_type2print": "Exam",
    "lx_problem_cell_type": "PROBLEM",
    "lx_problem_number": "5",
    "lx_problem_points": "8"
   },
   "source": [
    "\n",
    "## Markovian travel\n",
    "\n",
    "The dataset `Travel Dataset - Datathon 2019` is a simulated dataset designed to mimic real corporate travel systems -- focusing on flights and hotels. The file is at `data/flights.csv` in the same folder as `Exam.ipynb`, i.e. you can use the path `data/flights.csv` from the notebook to access the file.\n",
    "\n",
    "1. [2p] In the first code-box \n",
    "    1. Load the csv from file `data/flights.csv`\n",
    "    2. Fill in the value of the variables as specified by their names.\n",
    "2. [2p] In the second code-box your goal is to estimate a Markov chain transition matrix for the travels of these users. For example, if we enumerate the cities according to alphabetical order, the first city `'Aracaju (SE)'` would correspond to $0$. Each row of the file corresponds to one flight, i.e. it has a starting city and an ending city. We model this as a stationary Markov chain, i.e. each user's travel trajectory is a realization of the Markov chain, $X_t$. Here, $X_t$ is the current city the user is at, at step $t$, and $X_{t+1}$ is the city the user travels to at the next time step. This means that to each row in the file there is a corresponding pair $(X_{t},X_{t+1})$. The stationarity assumption gives that for all $t$ there is a transition density $p$ such that $P(X_{t+1} = y | X_t = x) = p(x,y)$ (for all $x,y$). The transition matrix should be `n_cities` x `n_citites` in size.\n",
    "3. [2p] Use the transition matrix to compute out the stationary distribution.\n",
    "4. [2p] Given that we start in 'Aracaju (SE)' what is the probability that after 3 steps we will be back in 'Aracaju (SE)'?"
   ]
  },
  {
   "cell_type": "code",
   "execution_count": 12,
   "id": "ad314a96-96c1-44c5-b714-2044d0e1d12d",
   "metadata": {},
   "outputs": [
    {
     "name": "stdout",
     "output_type": "stream",
     "text": [
      "        travelCode  userCode                 from                   to  \\\n",
      "0                0         0          Recife (PE)   Florianopolis (SC)   \n",
      "1                0         0   Florianopolis (SC)          Recife (PE)   \n",
      "2                1         0        Brasilia (DF)   Florianopolis (SC)   \n",
      "3                1         0   Florianopolis (SC)        Brasilia (DF)   \n",
      "4                2         0         Aracaju (SE)        Salvador (BH)   \n",
      "...            ...       ...                  ...                  ...   \n",
      "271883      135941      1339    Campo Grande (MS)   Florianopolis (SC)   \n",
      "271884      135942      1339   Florianopolis (SC)           Natal (RN)   \n",
      "271885      135942      1339           Natal (RN)   Florianopolis (SC)   \n",
      "271886      135943      1339   Florianopolis (SC)  Rio de Janeiro (RJ)   \n",
      "271887      135943      1339  Rio de Janeiro (RJ)   Florianopolis (SC)   \n",
      "\n",
      "        flightType    price  time  distance       agency        date  \n",
      "0       firstClass  1434.38  1.76    676.53  FlyingDrops  09/26/2019  \n",
      "1       firstClass  1292.29  1.76    676.53  FlyingDrops  09/30/2019  \n",
      "2       firstClass  1487.52  1.66    637.56      CloudFy  10/03/2019  \n",
      "3       firstClass  1127.36  1.66    637.56      CloudFy  10/04/2019  \n",
      "4       firstClass  1684.05  2.16    830.86      CloudFy  10/10/2019  \n",
      "...            ...      ...   ...       ...          ...         ...  \n",
      "271883  firstClass  1446.34  1.49    573.81      CloudFy  07/12/2020  \n",
      "271884    economic   726.95  1.84    709.37      CloudFy  07/16/2020  \n",
      "271885    economic   873.07  1.84    709.37      CloudFy  07/20/2020  \n",
      "271886    economic   313.62  1.21    466.30      CloudFy  07/23/2020  \n",
      "271887    economic   533.69  1.21    466.30      CloudFy  07/26/2020  \n",
      "\n",
      "[271888 rows x 10 columns]\n"
     ]
    }
   ],
   "source": [
    "#import numpy as np #method 2 to find no of rows of a csv file for below question (Lecture note)\n",
    "#Noofrows = np.genfromtxt('data/flights.csv', delimiter=\",\")\n",
    "#len(Noofrows)\n",
    "\n",
    "\n",
    "import pandas as pd\n",
    "import numpy as np\n",
    "\n",
    "file = \"data/flights.csv\"\n",
    "df = pd.read_csv(file)\n",
    "print(df)  #to check the header to count the required data"
   ]
  },
  {
   "cell_type": "code",
   "execution_count": 13,
   "id": "074721cd-0862-4d10-81b3-03cd2d197ea4",
   "metadata": {},
   "outputs": [
    {
     "data": {
      "text/plain": [
       "Index(['travelCode', 'userCode', 'from', 'to', 'flightType', 'price', 'time',\n",
       "       'distance', 'agency', 'date'],\n",
       "      dtype='object')"
      ]
     },
     "execution_count": 13,
     "metadata": {},
     "output_type": "execute_result"
    }
   ],
   "source": [
    "df.columns"
   ]
  },
  {
   "cell_type": "code",
   "execution_count": 14,
   "id": "ae50be9c",
   "metadata": {
    "deletable": false,
    "lx_assignment_number": "vB",
    "lx_assignment_type": "EXAM",
    "lx_assignment_type2print": "Exam",
    "lx_problem_cell_type": "PROBLEM",
    "lx_problem_number": "5",
    "lx_problem_points": "8"
   },
   "outputs": [
    {
     "name": "stdout",
     "output_type": "stream",
     "text": [
      "Number of cities in the CSV file: 9\n",
      "Number of user codes in the CSV file: 1335\n",
      "Number of rows in the CSV file: 271888\n"
     ]
    }
   ],
   "source": [
    "cities = df['from'].unique()\n",
    "num_cities = len(cities)\n",
    "usercodes = df['userCode'].unique()\n",
    "num_usercode = len(usercodes)\n",
    "num_rows = len(df)\n",
    "data = pd.read_csv(file)\n",
    "data\n",
    "print(f\"Number of cities in the CSV file: {num_cities}\")\n",
    "print(f\"Number of user codes in the CSV file: {num_usercode}\")\n",
    "print(f\"Number of rows in the CSV file: {num_rows}\")\n",
    "#number_of_cities = 9\n",
    "#number_of_userCodes = 1335\n",
    "#number_of_observations = 271888"
   ]
  },
  {
   "cell_type": "code",
   "execution_count": 15,
   "id": "74b2cd78",
   "metadata": {
    "deletable": false,
    "lx_assignment_number": "vB",
    "lx_assignment_type": "EXAM",
    "lx_assignment_type2print": "Exam",
    "lx_problem_cell_type": "PROBLEM",
    "lx_problem_number": "5",
    "lx_problem_points": "8"
   },
   "outputs": [],
   "source": [
    "\n",
    "# This is a very useful function that you can use for part 2. You have seen this before when parsing the\n",
    "# pride and prejudice book.\n",
    "\n",
    "def makeFreqDict(myDataList):\n",
    "    '''Make a frequency mapping out of a list of data.\n",
    "\n",
    "    Param myDataList, a list of data.\n",
    "    Return a dictionary mapping each unique data value to its frequency count.'''\n",
    "\n",
    "    freqDict = {} # start with an empty dictionary\n",
    "\n",
    "    for res in myDataList:\n",
    "        if res in freqDict: # the data value already exists as a key\n",
    "                freqDict[res] = freqDict[res] + 1 # add 1 to the count using sage integers\n",
    "        else: # the data value does not exist as a key value\n",
    "            freqDict[res] = 1 # add a new key-value pair for this new data value, frequency 1\n",
    "\n",
    "    return freqDict # return the dictionary created"
   ]
  },
  {
   "cell_type": "code",
   "execution_count": 16,
   "id": "ddfee1fd",
   "metadata": {
    "deletable": false,
    "lx_assignment_number": "vB",
    "lx_assignment_type": "EXAM",
    "lx_assignment_type2print": "Exam",
    "lx_problem_cell_type": "PROBLEM",
    "lx_problem_number": "5",
    "lx_problem_points": "8"
   },
   "outputs": [
    {
     "name": "stdout",
     "output_type": "stream",
     "text": [
      "[[0.         0.12983559 0.14487965 0.23218891 0.1057651  0.13120567\n",
      "  0.07570385 0.07839029 0.10203095]\n",
      " [0.15702265 0.         0.14675591 0.25273726 0.09704669 0.12417557\n",
      "  0.06478443 0.06527178 0.09220572]\n",
      " [0.15520318 0.12999309 0.         0.23751007 0.1019627  0.12979164\n",
      "  0.0695004  0.07252216 0.10351675]\n",
      " [0.15079296 0.1357189  0.14398869 0.         0.11705079 0.13275294\n",
      "  0.10131375 0.10119162 0.11719036]\n",
      " [0.16544797 0.1255253  0.14889057 0.28193814 0.         0.12161708\n",
      "  0.03992268 0.0389141  0.07774416]\n",
      " [0.16023622 0.1253937  0.14796588 0.24963911 0.09494751 0.\n",
      "  0.06223753 0.06404199 0.09553806]\n",
      " [0.16758846 0.1185846  0.14362177 0.34534642 0.05649718 0.11281594\n",
      "  0.         0.         0.05554564]\n",
      " [0.17060337 0.1174579  0.14733396 0.33910196 0.05413938 0.11412535\n",
      "  0.         0.         0.05723807]\n",
      " [0.1607619  0.12012698 0.15225397 0.28431746 0.07830688 0.12325926\n",
      "  0.03953439 0.04143915 0.        ]]\n"
     ]
    }
   ],
   "source": [
    "cities = df['from']\n",
    "unique_cities = sorted(set(cities)) # The unique cities\n",
    "n_cities = len(unique_cities) # The number of unique citites\n",
    "\n",
    "# Count the different transitions\n",
    "transitions = list(zip(df['from'],df['to'])) # A list containing tuples ex: ('Aracaju (SE)','Rio de Janeiro (RJ)') of all transitions in the text\n",
    "transition_counts = makeFreqDict(transitions)# A dictionary that counts the number of each transition \n",
    "# ex: ('Aracaju (SE)','Rio de Janeiro (RJ)'):4\n",
    " \n",
    "\n",
    "indexToCity =  dict(enumerate(unique_cities)) #makeCityIndex(unique_cities) A dictionary that maps the n-1 number to the n:th unique_city,\n",
    "# ex: 0:'Aracaju (SE)'\n",
    "cityToIndex = {city: index for index, city in indexToCity.items()} #inverseCityIndex(unique_cities) #{city: index for index, city in indexToCity.items()} # The inverse function of indexToWord, \n",
    "# ex: 'Aracaju (SE)':0\n",
    "\n",
    "# Part 3, finding the maximum likelihood estimate of the transition matrix\n",
    "\n",
    "transition_matrix = np.zeros((n_cities,n_cities)) # a numpy array of size (n_cities,n_cities)\n",
    "for i in list(transition_counts.keys()):\n",
    "                    transition_matrix[cityToIndex[i[0]],cityToIndex[i[1]]]+=transition_counts[i]\n",
    "transition_matrix = transition_matrix/transition_matrix.sum(axis=1)[:,None]\n",
    "#for transition, count in transition_counts.items():\n",
    "   # from_city, to_city = transition\n",
    "   # from_index, to_index = cityToIndex[from_city], cityToIndex[to_city]\n",
    "    #transition_matrix[from_index, to_index] = count\n",
    "    # row_sums = transition_matrix.sum(axis=1, keepdims=True)\n",
    "#transition_matrix = np.divide(transition_matrix, row_sums, out=np.zeros_like(transition_matrix), where=row_sums != 0)\n",
    "\n",
    "#transition_matrix = np.nan_to_num(transition_matrix)\n",
    "print(transition_matrix)\n",
    "# The transition matrix should be ordered in such a way that\n",
    "# p_{'Aracaju (SE)','Rio de Janeiro (RJ)'} = transition_matrix[cityToIndex['Aracaju (SE)'],cityToIndex['Rio de Janeiro (RJ)']]\n",
    "# and represents the probability of travelling Aracaju (SE)->Rio de Janeiro (RJ)\n",
    "\n",
    "# Make sure that the transition_matrix does not contain np.nan from division by zero for instance"
   ]
  },
  {
   "cell_type": "code",
   "execution_count": 17,
   "id": "b2053f5d",
   "metadata": {
    "deletable": false,
    "lx_assignment_number": "vB",
    "lx_assignment_type": "EXAM",
    "lx_assignment_type2print": "Exam",
    "lx_problem_cell_type": "PROBLEM",
    "lx_problem_number": "5",
    "lx_problem_points": "8"
   },
   "outputs": [
    {
     "data": {
      "text/plain": [
       "array([0.13690932, 0.1132047 , 0.12780262, 0.21081107, 0.08752133,\n",
       "       0.11210498, 0.06184532, 0.06290826, 0.0868924 ])"
      ]
     },
     "execution_count": 17,
     "metadata": {},
     "output_type": "execute_result"
    }
   ],
   "source": [
    "evals,evecs = np.linalg.eig(transition_matrix.T)   #method in the lecture note\n",
    "first_evec = evecs[:,0]\n",
    "np.array(first_evec) / np.sum(first_evec)\n",
    "\n",
    "#stationary_distribution_problem5 = XXX"
   ]
  },
  {
   "cell_type": "code",
   "execution_count": 18,
   "id": "c5f26342-c713-45a6-b120-2ec3124376d6",
   "metadata": {},
   "outputs": [
    {
     "name": "stdout",
     "output_type": "stream",
     "text": [
      "Probability of returning to Aracaju (SE) after 3 steps: 0.13331717737273133\n"
     ]
    }
   ],
   "source": [
    "# Compute the return probability for part 3 of problem 5, \n",
    "'''This is the correct answer for this question'''\n",
    "start_city = 'Aracaju (SE)'\n",
    "start_index = cityToIndex[start_city]\n",
    "\n",
    "# Calculate the probability distribution after 3 steps\n",
    "probability_distribution = np.linalg.matrix_power(transition_matrix, 3)[start_index]\n",
    "\n",
    "# Probability of returning to 'Aracaju (SE)' after 3 steps\n",
    "probability_of_return = probability_distribution[start_index]\n",
    "\n",
    "print(f\"Probability of returning to {start_city} after 3 steps: {probability_of_return}\")\n",
    "return_probability_problem5 = probability_of_return"
   ]
  },
  {
   "cell_type": "code",
   "execution_count": 19,
   "id": "a9b10afd",
   "metadata": {
    "deletable": false,
    "lx_assignment_number": "vB",
    "lx_assignment_type": "EXAM",
    "lx_assignment_type2print": "Exam",
    "lx_problem_cell_type": "PROBLEM",
    "lx_problem_number": "5",
    "lx_problem_points": "8"
   },
   "outputs": [
    {
     "name": "stdout",
     "output_type": "stream",
     "text": [
      "[0.13751752 0.11309431 0.1277806  0.21146325 0.08727624 0.11196344\n",
      " 0.06158857 0.06264483 0.08667125]\n"
     ]
    }
   ],
   "source": [
    "\n",
    "# Compute the return probability for part 3 of problem 5  #This answer is close enough\n",
    "\n",
    "n=3  #no of steps\n",
    "transition_matrix_n=transition_matrix\n",
    "i=0\n",
    "while i<n:\n",
    "    transition_matrix_n=np.matmul(transition_matrix_n, transition_matrix)\n",
    "    i+=1\n",
    "print(transition_matrix_n[0])\n",
    "\n",
    "#return_probability_problem5 = XXX"
   ]
  },
  {
   "cell_type": "markdown",
   "id": "31083a19",
   "metadata": {
    "deletable": false,
    "lx_assignment_number": "vB",
    "lx_assignment_type": "EXAM",
    "lx_assignment_type2print": "Exam",
    "lx_problem_cell_type": "Test",
    "lx_problem_number": "5",
    "lx_problem_points": "8"
   },
   "source": [
    "---\n",
    "#### Local Test for Exam vB, PROBLEM 5\n",
    "Evaluate cell below to make sure your answer is valid.                             You **should not** modify anything in the cell below when evaluating it to do a local test of                             your solution.\n",
    "You may need to include and evaluate code snippets from lecture notebooks in cells above to make the local test work correctly sometimes (see error messages for clues). This is meant to help you become efficient at recalling materials covered in lectures that relate to this problem. Such local tests will generally not be available in the exam."
   ]
  },
  {
   "cell_type": "code",
   "execution_count": 20,
   "id": "5c51e7c9",
   "metadata": {
    "deletable": false,
    "lx_assignment_number": "vB",
    "lx_assignment_type": "EXAM",
    "lx_assignment_type2print": "Exam",
    "lx_problem_cell_type": "Test",
    "lx_problem_number": "5",
    "lx_problem_points": "8"
   },
   "outputs": [
    {
     "name": "stdout",
     "output_type": "stream",
     "text": [
      "Aracaju (SE)->Brasilia (DF)->Aracaju (SE)->Natal (RN)->Aracaju (SE)->Salvador (BH)->Campo Grande (MS)->Florianopolis (SC)->Brasilia (DF)->Florianopolis (SC)->"
     ]
    }
   ],
   "source": [
    "# Once you have created all your functions, you can make a small test here to see\n",
    "# what would be generated from your model.\n",
    "import numpy as np\n",
    "\n",
    "start = np.zeros(shape=(n_cities,1))\n",
    "start[cityToIndex['Aracaju (SE)'],0] = 1\n",
    "\n",
    "current_pos = start\n",
    "for i in range(10):\n",
    "    random_word_index = np.random.choice(range(n_cities),p=current_pos.reshape(-1))\n",
    "    current_pos = np.zeros_like(start)\n",
    "    current_pos[random_word_index] = 1\n",
    "    print(indexToCity[random_word_index],end='->')\n",
    "    current_pos = (current_pos.T@transition_matrix).T"
   ]
  },
  {
   "cell_type": "markdown",
   "id": "c69d372c",
   "metadata": {
    "deletable": false,
    "lx_assignment_number": "vB",
    "lx_assignment_type": "EXAM",
    "lx_assignment_type2print": "Exam",
    "lx_problem_cell_type": "PROBLEM",
    "lx_problem_number": "6",
    "lx_problem_points": "8"
   },
   "source": [
    "---\n",
    "## Exam vB, PROBLEM 6\n",
    "Maximum Points = 8"
   ]
  },
  {
   "cell_type": "markdown",
   "id": "fbb4571e",
   "metadata": {
    "deletable": false,
    "lx_assignment_number": "vB",
    "lx_assignment_type": "EXAM",
    "lx_assignment_type2print": "Exam",
    "lx_problem_cell_type": "PROBLEM",
    "lx_problem_number": "6",
    "lx_problem_points": "8"
   },
   "source": [
    "\n",
    "## Black box testing\n",
    "\n",
    "In the following problem we will continue with our SMS spam / nospam data. This time we will try to approach the problem as a pattern recognition problem. For this particular problem I have provided you with everything -- data is prepared, split into train-test sets and a black-box model has been fitted on the training data and predicted on the test data. Your goal is to calculate test metrics and provide guarantees for each metric.\n",
    "\n",
    "1. [2p] Compute precision for class 1 (see notes 8.3.2 for definition), then provide an interval using Hoeffding's inequality for a 95\\% confidence.\n",
    "2. [2p] Compute recall for class 1(see notes 8.3.2 for definition), then provide an interval using Hoeffding's inequality for a 95\\% interval.\n",
    "3. [2p] Compute accuracy (0-1 loss), then provide an interval using Hoeffding's inequality for a 95\\% interval.\n",
    "4. [2p] If we would have used a classifier with VC-dimension 3, would we have obtained a smaller interval for accuracy by using all data?"
   ]
  },
  {
   "cell_type": "code",
   "execution_count": 21,
   "id": "6f8148a9",
   "metadata": {
    "deletable": false,
    "jupyter": {
     "source_hidden": false
    },
    "lx_assignment_number": "vB",
    "lx_assignment_type": "EXAM",
    "lx_assignment_type2print": "Exam",
    "lx_problem_cell_type": "PROBLEM",
    "lx_problem_number": "6",
    "lx_problem_points": "8"
   },
   "outputs": [
    {
     "ename": "ModuleNotFoundError",
     "evalue": "No module named 'exam_extras'",
     "output_type": "error",
     "traceback": [
      "\u001b[0;31m---------------------------------------------------------------------------\u001b[0m",
      "\u001b[0;31mModuleNotFoundError\u001b[0m                       Traceback (most recent call last)",
      "Cell \u001b[0;32mIn[21], line 4\u001b[0m\n\u001b[1;32m      1\u001b[0m \u001b[38;5;66;03m# The code below will load data, split the data into train and test and run a \"black box\" algorithm on it\u001b[39;00m\n\u001b[1;32m      2\u001b[0m \u001b[38;5;66;03m# the result of the \"black box\" is stored in predictions_problem6, the true values will be stored in\u001b[39;00m\n\u001b[1;32m      3\u001b[0m \u001b[38;5;66;03m# Y_test_problem6\u001b[39;00m\n\u001b[0;32m----> 4\u001b[0m \u001b[38;5;28;01mimport\u001b[39;00m \u001b[38;5;21;01mexam_extras\u001b[39;00m\n\u001b[1;32m      5\u001b[0m \u001b[38;5;28;01mfrom\u001b[39;00m \u001b[38;5;21;01mexam_extras\u001b[39;00m \u001b[38;5;28;01mimport\u001b[39;00m load_sms_problem6\n\u001b[1;32m      6\u001b[0m X_problem6, Y_problem6 \u001b[38;5;241m=\u001b[39m load_sms_problem6()\n",
      "\u001b[0;31mModuleNotFoundError\u001b[0m: No module named 'exam_extras'"
     ]
    }
   ],
   "source": [
    "\n",
    "# The code below will load data, split the data into train and test and run a \"black box\" algorithm on it\n",
    "# the result of the \"black box\" is stored in predictions_problem6, the true values will be stored in\n",
    "# Y_test_problem6\n",
    "import exam_extras\n",
    "from exam_extras import load_sms_problem6\n",
    "X_problem6, Y_problem6 = load_sms_problem6()\n",
    "\n",
    "X_train_problem6,X_test_problem6,Y_train_problem6,Y_test_problem6 = exam_extras.train_test_split(X_problem6,Y_problem6)\n",
    "predictions_problem6 = exam_extras.knn_predictions(X_train_problem6,Y_train_problem6,X_test_problem6,k=4)"
   ]
  },
  {
   "cell_type": "code",
   "execution_count": null,
   "id": "25f59dcd",
   "metadata": {
    "deletable": false,
    "lx_assignment_number": "vB",
    "lx_assignment_type": "EXAM",
    "lx_assignment_type2print": "Exam",
    "lx_problem_cell_type": "PROBLEM",
    "lx_problem_number": "6",
    "lx_problem_points": "8"
   },
   "outputs": [],
   "source": [
    "\n",
    "# Compute the precision of predictions_problem6 with respect to Y_test_problem6\n",
    "problem6_precision = XXX"
   ]
  },
  {
   "cell_type": "code",
   "execution_count": null,
   "id": "8737fd58",
   "metadata": {
    "deletable": false,
    "lx_assignment_number": "vB",
    "lx_assignment_type": "EXAM",
    "lx_assignment_type2print": "Exam",
    "lx_problem_cell_type": "PROBLEM",
    "lx_problem_number": "6",
    "lx_problem_points": "8"
   },
   "outputs": [],
   "source": [
    "\n",
    "# Compute the interval length l of precision of predictions_problem6 with respect to Y_test_problem6, with the same definition of l as in problem 4\n",
    "problem6_precision_l = XXX"
   ]
  },
  {
   "cell_type": "code",
   "execution_count": null,
   "id": "9bbb2ebc",
   "metadata": {
    "deletable": false,
    "lx_assignment_number": "vB",
    "lx_assignment_type": "EXAM",
    "lx_assignment_type2print": "Exam",
    "lx_problem_cell_type": "PROBLEM",
    "lx_problem_number": "6",
    "lx_problem_points": "8"
   },
   "outputs": [],
   "source": [
    "\n",
    "# Repeat the same procedure but for recall\n",
    "problem6_recall = XXX"
   ]
  },
  {
   "cell_type": "code",
   "execution_count": null,
   "id": "d18b6f78",
   "metadata": {
    "deletable": false,
    "lx_assignment_number": "vB",
    "lx_assignment_type": "EXAM",
    "lx_assignment_type2print": "Exam",
    "lx_problem_cell_type": "PROBLEM",
    "lx_problem_number": "6",
    "lx_problem_points": "8"
   },
   "outputs": [],
   "source": [
    "\n",
    "problem6_recall_l = XXX"
   ]
  },
  {
   "cell_type": "code",
   "execution_count": null,
   "id": "83ade7dd",
   "metadata": {
    "deletable": false,
    "lx_assignment_number": "vB",
    "lx_assignment_type": "EXAM",
    "lx_assignment_type2print": "Exam",
    "lx_problem_cell_type": "PROBLEM",
    "lx_problem_number": "6",
    "lx_problem_points": "8"
   },
   "outputs": [],
   "source": [
    "\n",
    "# Repeat the same procedure but for accuracy or 0-1 loss\n",
    "problem6_accuracy = XXX"
   ]
  },
  {
   "cell_type": "code",
   "execution_count": null,
   "id": "206e2b11",
   "metadata": {
    "deletable": false,
    "lx_assignment_number": "vB",
    "lx_assignment_type": "EXAM",
    "lx_assignment_type2print": "Exam",
    "lx_problem_cell_type": "PROBLEM",
    "lx_problem_number": "6",
    "lx_problem_points": "8"
   },
   "outputs": [],
   "source": [
    "\n",
    "problem6_accuracy_l = XXX"
   ]
  },
  {
   "cell_type": "code",
   "execution_count": null,
   "id": "df926281",
   "metadata": {
    "deletable": false,
    "lx_assignment_number": "vB",
    "lx_assignment_type": "EXAM",
    "lx_assignment_type2print": "Exam",
    "lx_problem_cell_type": "PROBLEM",
    "lx_problem_number": "6",
    "lx_problem_points": "8"
   },
   "outputs": [],
   "source": [
    "\n",
    "# Below you will calculate the interval parameter l for a classifier running on all data with a VC dimension of 3\n",
    "# put the value in problem6_VC_l and answer problem_VC_smaller as True if the interval is smaller than the test-accuracy above\n",
    "# if not answer False. Make sure you replace XXX with something even if you only answer one of them.\n",
    "problem6_VC_l = XXX # number\n",
    "problem6_VC_smaller = XXX #True / False"
   ]
  }
 ],
 "metadata": {
  "kernelspec": {
   "display_name": "Python 3 (ipykernel)",
   "language": "python",
   "name": "python3"
  },
  "language_info": {
   "codemirror_mode": {
    "name": "ipython",
    "version": 3
   },
   "file_extension": ".py",
   "mimetype": "text/x-python",
   "name": "python",
   "nbconvert_exporter": "python",
   "pygments_lexer": "ipython3",
   "version": "3.11.4"
  },
  "lx_assignment_number": "vB",
  "lx_course_instance": "2022",
  "lx_course_name": "Introduction to Data Science",
  "lx_course_number": "1MS041"
 },
 "nbformat": 4,
 "nbformat_minor": 5
}
