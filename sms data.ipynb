{
 "cells": [
  {
   "cell_type": "markdown",
   "id": "548428d7",
   "metadata": {},
   "source": [
    "From probability note"
   ]
  },
  {
   "cell_type": "code",
   "execution_count": 1,
   "id": "078a4c3e",
   "metadata": {},
   "outputs": [
    {
     "name": "stdout",
     "output_type": "stream",
     "text": [
      "Couldn't find program: 'sh'\n"
     ]
    }
   ],
   "source": [
    "%%sh \n",
    "head -n 4 data/spam.csv #use bash command head to which lists first lines of the data"
   ]
  },
  {
   "cell_type": "code",
   "execution_count": 2,
   "id": "605822e7",
   "metadata": {},
   "outputs": [],
   "source": [
    "def load_sms():\n",
    "    \"\"\"\n",
    "    A wrapper function to load the sms data\n",
    "    \"\"\"\n",
    "    import csv\n",
    "    lines = []\n",
    "    hamspam = {'ham': 0, 'spam': 1}\n",
    "    with open('data/spam.csv', mode='r', encoding='latin-1') as f:\n",
    "        reader = csv.reader(f)\n",
    "        # When using the csv reader, each time you use the function\n",
    "        # next on it, it will spit out a list split at the ','\n",
    "        header = next(reader)\n",
    "        # We store this as (\"txt\",label), where we have used the function\n",
    "        # hamspam to convert from \"ham\",\"spam\" to 0 and 1.\n",
    "        lines = [(line[1],hamspam[line[0]]) for line in reader]\n",
    "        \n",
    "    return lines"
   ]
  },
  {
   "cell_type": "code",
   "execution_count": 3,
   "id": "5e0717ae",
   "metadata": {},
   "outputs": [
    {
     "data": {
      "text/plain": [
       "[('Go until jurong point, crazy.. Available only in bugis n great world la e buffet... Cine there got amore wat...',\n",
       "  0),\n",
       " ('Ok lar... Joking wif u oni...', 0)]"
      ]
     },
     "execution_count": 3,
     "metadata": {},
     "output_type": "execute_result"
    }
   ],
   "source": [
    "sms_data = load_sms() #get 0 for ham 1 for spam\n",
    "sms_data[:2]"
   ]
  },
  {
   "cell_type": "code",
   "execution_count": 4,
   "id": "24914971",
   "metadata": {},
   "outputs": [],
   "source": [
    "samplespace_sms_X = [0,1] #mycomment:possible values that x can take 0 for ham 1 for spam"
   ]
  },
  {
   "cell_type": "markdown",
   "id": "79bfd62d",
   "metadata": {},
   "source": [
    "probability of getting spam sms"
   ]
  },
  {
   "cell_type": "code",
   "execution_count": 5,
   "id": "8b143e2d",
   "metadata": {},
   "outputs": [
    {
     "data": {
      "text/plain": [
       "0.13406317300789664"
      ]
     },
     "execution_count": 5,
     "metadata": {},
     "output_type": "execute_result"
    }
   ],
   "source": [
    "# Number of times the spam occurs divided by the amount of sms data\n",
    "N_spam_n = sum([sms[1] for sms in sms_data]) / len(sms_data)\n",
    "N_spam_n"
   ]
  },
  {
   "cell_type": "code",
   "execution_count": 6,
   "id": "212256f4",
   "metadata": {},
   "outputs": [
    {
     "ename": "NameError",
     "evalue": "name 'ProbyMap' is not defined",
     "output_type": "error",
     "traceback": [
      "\u001b[1;31m---------------------------------------------------------------------------\u001b[0m",
      "\u001b[1;31mNameError\u001b[0m                                 Traceback (most recent call last)",
      "Cell \u001b[1;32mIn[6], line 2\u001b[0m\n\u001b[0;32m      1\u001b[0m relFreqs_sms_X \u001b[38;5;241m=\u001b[39m [\u001b[38;5;241m1\u001b[39m\u001b[38;5;241m-\u001b[39mN_spam_n, N_spam_n] \u001b[38;5;66;03m#match each probability with its samples\u001b[39;00m\n\u001b[1;32m----> 2\u001b[0m sms_X_probmap \u001b[38;5;241m=\u001b[39m ProbyMap(sspace \u001b[38;5;241m=\u001b[39m samplespace_sms_X, probs\u001b[38;5;241m=\u001b[39mrelFreqs_sms_X)\u001b[38;5;66;03m# make our probability map\u001b[39;00m\n\u001b[0;32m      3\u001b[0m sms_X_probmap\n",
      "\u001b[1;31mNameError\u001b[0m: name 'ProbyMap' is not defined"
     ]
    }
   ],
   "source": [
    "relFreqs_sms_X = [1-N_spam_n, N_spam_n] #match each probability with its samples\n",
    "sms_X_probmap = ProbyMap(sspace = samplespace_sms_X, probs=relFreqs_sms_X)# make our probability map\n",
    "sms_X_probmap"
   ]
  },
  {
   "cell_type": "markdown",
   "id": "a9084b4d",
   "metadata": {},
   "source": [
    "counting words probability"
   ]
  },
  {
   "cell_type": "code",
   "execution_count": 7,
   "id": "52de5306",
   "metadata": {},
   "outputs": [],
   "source": [
    "def free_in_txt(txt):\n",
    "    if 'free' in txt: # txt = \"freestyle\", txt=\"free films\" = 1, returns zero if we see txt=\"Free\" \n",
    "        return 1\n",
    "    return 0"
   ]
  },
  {
   "cell_type": "code",
   "execution_count": 8,
   "id": "2370c31f",
   "metadata": {},
   "outputs": [],
   "source": [
    "sms_free_in_word = [free_in_txt(txt) for txt,label in sms_data] #count all the rows which has free in a sms"
   ]
  },
  {
   "cell_type": "code",
   "execution_count": 17,
   "id": "c69f377f",
   "metadata": {},
   "outputs": [
    {
     "data": {
      "text/plain": [
       "122"
      ]
     },
     "execution_count": 17,
     "metadata": {},
     "output_type": "execute_result"
    }
   ],
   "source": [
    "sum(sms_free_in_word)"
   ]
  },
  {
   "cell_type": "code",
   "execution_count": 18,
   "id": "69bffaef",
   "metadata": {},
   "outputs": [
    {
     "data": {
      "text/plain": [
       "0.02189519023689878"
      ]
     },
     "execution_count": 18,
     "metadata": {},
     "output_type": "execute_result"
    }
   ],
   "source": [
    "#samplespace_sms_Y = samplespace_sms_X\n",
    "# Number of times the free occured in data\n",
    "N_free_n = sum(sms_free_in_word) / len(sms_free_in_word) #probability of getting free in the dataset\n",
    "N_free_n"
   ]
  },
  {
   "cell_type": "markdown",
   "id": "2219a80d",
   "metadata": {},
   "source": [
    "conditional probability"
   ]
  },
  {
   "cell_type": "markdown",
   "id": "4242f164",
   "metadata": {},
   "source": [
    "𝑃(𝐴∣𝐵):=𝑃(𝐴∩𝐵)/𝑃(𝐵)\n",
    "\n",
    "𝑃(𝑋=1∣𝑌=1):=𝑃(𝑋=1 and 𝑌=1)/𝑃(𝑌=1). here X is ham(0)/spam(1), Y is free(1)/no free(0)\n",
    " \n",
    "What does this mean? What is the probability that our text is a spam given that we know it contains the word \"free\"."
   ]
  },
  {
   "cell_type": "code",
   "execution_count": 19,
   "id": "d02c9b0d",
   "metadata": {},
   "outputs": [
    {
     "data": {
      "text/plain": [
       "0.01094759511844939"
      ]
     },
     "execution_count": 19,
     "metadata": {},
     "output_type": "execute_result"
    }
   ],
   "source": [
    "X = [label for txt,label in sms_data] #get output as 1,0-label output   \n",
    "Y = sms_free_in_word\n",
    "X_and_Y = [x*y for x,y in zip(X,Y)] #multiply to get 1*1 for X=1 and Y=1\n",
    "N_X_and_Y = sum(X_and_Y)/len(X_and_Y) #probability of getting spam and free sms\n",
    "N_X_and_Y"
   ]
  },
  {
   "cell_type": "code",
   "execution_count": 20,
   "id": "68f5129d",
   "metadata": {},
   "outputs": [
    {
     "data": {
      "text/plain": [
       "0.5"
      ]
     },
     "execution_count": 20,
     "metadata": {},
     "output_type": "execute_result"
    }
   ],
   "source": [
    "# So lets just divide this with N_free_n from above and we get\n",
    "N_X_and_Y/N_free_n #probability of getting spam sms if it has word 'free' in sms"
   ]
  },
  {
   "cell_type": "markdown",
   "id": "f3c79ca8",
   "metadata": {},
   "source": [
    "Another way to do the same thing, is to take our original data and remove all texts that does not contain the word free and compute the relative frequency of spam in the remaining data"
   ]
  },
  {
   "cell_type": "code",
   "execution_count": 21,
   "id": "21ee7d8d",
   "metadata": {},
   "outputs": [
    {
     "data": {
      "text/plain": [
       "0.5"
      ]
     },
     "execution_count": 21,
     "metadata": {},
     "output_type": "execute_result"
    }
   ],
   "source": [
    "free_only_sms = [(txt, label) for txt,label in sms_data if free_in_txt(txt)]\n",
    "sum([sms[1] for sms in free_only_sms])/len(free_only_sms)"
   ]
  },
  {
   "cell_type": "markdown",
   "id": "a151636f",
   "metadata": {},
   "source": [
    "Random variable note"
   ]
  },
  {
   "cell_type": "markdown",
   "id": "703c2685",
   "metadata": {},
   "source": [
    "Let X represents each SMS text (an entry in the list), and \n",
    "let  𝑌 represent whether text is spam or not i.e.  𝑌∈{0,1}\n",
    "\n",
    "Thus  ℙ(𝑌=1) is the probability that we get a spam. The goal is to estimate:\n",
    "ℙ(𝑌=1|\"free\" or \"prize\" is in 𝑋).\n",
    " \n",
    "That is, the probability that the SMS is spam given that \"free\" or \"prize\" occurs in the SMS.\n",
    "\n",
    "To do this we can create a new random variable  𝑍 which is  1 if \"free\" or \"prize\" appears in  𝑋."
   ]
  },
  {
   "cell_type": "code",
   "execution_count": 22,
   "id": "695ef07c",
   "metadata": {},
   "outputs": [],
   "source": [
    "interesting_words=set(['free','prize'])\n",
    "TF10 = {True: 1, False: 0}\n",
    "Z_obs = [TF10[not interesting_words.isdisjoint([word.lower() for word in line[0].split(' ')])] for line in sms_data] \n",
    "#my comment: list of values (either 0 or 1) based on whether certain interesting words are present in the lowercase words \n",
    "#of the text data in sms_data. \n",
    "#The values are determined by the TF10 dictionary, where True corresponds to 1 and False corresponds to 0."
   ]
  },
  {
   "cell_type": "code",
   "execution_count": 23,
   "id": "9f88535b",
   "metadata": {},
   "outputs": [
    {
     "data": {
      "text/plain": [
       "[0, 0, 1, 0, 0, 0, 0, 0, 1, 1]"
      ]
     },
     "execution_count": 23,
     "metadata": {},
     "output_type": "execute_result"
    }
   ],
   "source": [
    "Z_obs[:10]"
   ]
  },
  {
   "cell_type": "code",
   "execution_count": 24,
   "id": "cebcecb6",
   "metadata": {},
   "outputs": [
    {
     "data": {
      "text/plain": [
       "[0, 0, 1, 0, 0, 1, 0, 0, 1, 1]"
      ]
     },
     "execution_count": 24,
     "metadata": {},
     "output_type": "execute_result"
    }
   ],
   "source": [
    "Y_obs = [y for x,y in sms_data]\n",
    "Y_obs[:10]\n",
    "#my comment: x text data,y label associated with text data.a list that contains the labels associated with the text data in the sms_data dataset. \n",
    "#If y represents the label (e.g., 0 or 1), Y_obs will be a list of these labels corresponding to each item in sms_data."
   ]
  },
  {
   "cell_type": "code",
   "execution_count": 25,
   "id": "31898811",
   "metadata": {},
   "outputs": [],
   "source": [
    "import numpy as np\n",
    "def F_X_12(x):\n",
    "    TF10 = {True: 1, False: 0}\n",
    "    return np.mean([TF10[(y <= x[0]) and (z <= x[1])] for y,z in zip (Y_obs,Z_obs)])"
   ]
  },
  {
   "cell_type": "code",
   "execution_count": 26,
   "id": "2e5c9fae",
   "metadata": {},
   "outputs": [
    {
     "data": {
      "text/plain": [
       "0.9551328068916008"
      ]
     },
     "execution_count": 26,
     "metadata": {},
     "output_type": "execute_result"
    }
   ],
   "source": [
    "F_X_12([1,0])"
   ]
  },
  {
   "cell_type": "code",
   "execution_count": 27,
   "id": "f57cb9d8",
   "metadata": {},
   "outputs": [
    {
     "name": "stdout",
     "output_type": "stream",
     "text": [
      "\tz <= 0 \t\tz <= 1\n",
      "y <= 0 \t0.86\t\t0.87\t\t\n",
      "\n",
      "y <= 1 \t0.96\t\t1.00\t\t\n",
      "\n"
     ]
    }
   ],
   "source": [
    "print(\"\\tz <= 0 \\t\\tz <= 1\")\n",
    "for x1 in range(0,2):\n",
    "    print(\"y <= %d \\t\" % x1,end='')\n",
    "    for x2 in range(0,2):\n",
    "        print(\"%.2f\" % (F_X_12((x1,x2))),end='\\t\\t')\n",
    "    print('\\n') #joint distribution function for this problem"
   ]
  },
  {
   "cell_type": "code",
   "execution_count": 28,
   "id": "77da6202",
   "metadata": {},
   "outputs": [
    {
     "data": {
      "text/plain": [
       "0.9551328068916008"
      ]
     },
     "execution_count": 28,
     "metadata": {},
     "output_type": "execute_result"
    }
   ],
   "source": [
    "F_X_12((1,0))"
   ]
  },
  {
   "cell_type": "code",
   "execution_count": 29,
   "id": "774e77e6",
   "metadata": {},
   "outputs": [
    {
     "data": {
      "text/plain": [
       "False"
      ]
     },
     "execution_count": 29,
     "metadata": {},
     "output_type": "execute_result"
    }
   ],
   "source": [
    "F_X_12((0,0)) == F_X_12((0,1))*F_X_12((1,0)) #check whether lhs=rhs"
   ]
  },
  {
   "cell_type": "code",
   "execution_count": 30,
   "id": "ed15adf9",
   "metadata": {},
   "outputs": [
    {
     "data": {
      "text/plain": [
       "0.8270846721557743"
      ]
     },
     "execution_count": 30,
     "metadata": {},
     "output_type": "execute_result"
    }
   ],
   "source": [
    "F_X_12((0,1))*F_X_12((1,0))"
   ]
  },
  {
   "cell_type": "code",
   "execution_count": 31,
   "id": "0abb4839",
   "metadata": {},
   "outputs": [
    {
     "data": {
      "text/plain": [
       "0.827084672155774"
      ]
     },
     "execution_count": 31,
     "metadata": {},
     "output_type": "execute_result"
    }
   ],
   "source": [
    " #Are they indepdentent? If so, then the JDF is just the product of the \n",
    "# DFs for Y and Z, but\n",
    "0.865936826992103*0.955132806891601"
   ]
  },
  {
   "cell_type": "markdown",
   "id": "2abf0693",
   "metadata": {},
   "source": [
    "Which is not 0.858, so they are not independent. So lets try to estimate the probability that  𝑌=1\n",
    "  given that  𝑍=1 Lets again do that by filtering"
   ]
  },
  {
   "cell_type": "code",
   "execution_count": 32,
   "id": "abe727e8",
   "metadata": {},
   "outputs": [
    {
     "data": {
      "text/plain": [
       "0.812"
      ]
     },
     "execution_count": 32,
     "metadata": {},
     "output_type": "execute_result"
    }
   ],
   "source": [
    "np.mean([y for z,y in zip(Z_obs,Y_obs) if z == 1])"
   ]
  },
  {
   "cell_type": "markdown",
   "id": "eba4b619",
   "metadata": {},
   "source": [
    "Compare that with the marginal probability of  𝑌=1, which is according to our JDF 1-0.866 = 0.134"
   ]
  },
  {
   "cell_type": "code",
   "execution_count": 33,
   "id": "1978cac4",
   "metadata": {},
   "outputs": [
    {
     "data": {
      "text/plain": [
       "0.812"
      ]
     },
     "execution_count": 33,
     "metadata": {},
     "output_type": "execute_result"
    }
   ],
   "source": [
    "np.mean([y for z,y in zip(Z_obs,Y_obs) if z == 1])"
   ]
  },
  {
   "cell_type": "markdown",
   "id": "d8cf7a8d",
   "metadata": {},
   "source": [
    "Recall that we computed the mean of Y_obs, which is the mean spam number. This is a Bernoulli random variable with unknown  𝑝\n",
    " , so we can use our methods above to compute a confidence interval"
   ]
  },
  {
   "cell_type": "code",
   "execution_count": 34,
   "id": "f2889c1d",
   "metadata": {},
   "outputs": [],
   "source": [
    "def epsilon_bernoulli(n,alpha):\n",
    "    return np.sqrt(-1/(2*n)*np.log((alpha)/2))"
   ]
  },
  {
   "cell_type": "code",
   "execution_count": 35,
   "id": "09d8df64",
   "metadata": {},
   "outputs": [
    {
     "name": "stdout",
     "output_type": "stream",
     "text": [
      "[0.116,0.152]\n"
     ]
    }
   ],
   "source": [
    "epsilon = epsilon_bernoulli(len(Y_obs),0.05)\n",
    "mean_Y_obs = np.mean(Y_obs)\n",
    "print(\"[%.3f,%.3f]\" % (mean_Y_obs-epsilon,mean_Y_obs+epsilon))"
   ]
  },
  {
   "cell_type": "markdown",
   "id": "2af4006f",
   "metadata": {},
   "source": [
    "From this we get that we have provided a prediction as to what is the true probability of getting a spam email."
   ]
  },
  {
   "cell_type": "markdown",
   "id": "27d773e1",
   "metadata": {},
   "source": [
    "but this requires you to estimate both things on the right, and give a region for both and finally figure out an interval for the ratio. But, there is an easier way, which sometimes works better. Namely, to look at the random variable  𝑌∣(𝑍=1)\n",
    "  which we do by filtering"
   ]
  },
  {
   "cell_type": "code",
   "execution_count": 37,
   "id": "16b496ac",
   "metadata": {},
   "outputs": [
    {
     "name": "stdout",
     "output_type": "stream",
     "text": [
      "[0.726,0.898]\n"
     ]
    }
   ],
   "source": [
    "Y_mid_Z1 = [y for z,y in zip(Z_obs,Y_obs) if z == 1]\n",
    "\n",
    "epsilon = epsilon_bernoulli(len(Y_mid_Z1),0.05)\n",
    "mean_Y_obs = np.mean(Y_mid_Z1)\n",
    "print(\"[%.3f,%.3f]\" % (mean_Y_obs-epsilon,mean_Y_obs+epsilon))"
   ]
  },
  {
   "cell_type": "markdown",
   "id": "a86ac947",
   "metadata": {},
   "source": [
    "2022 paper\n",
    "\n",
    "SMS spam filtering [8p]\n",
    "In the following problem we will explore SMS spam texts. The dataset is the SMS Spam Collection Dataset and we have provided for you a way to load the data. If you run the appropriate cell below, the result will be in the spam_no_spam variable. The result is a list of tuples with the first position in the tuple being the SMS text and the second being a flag 0 = not spam and 1 = spam.\n",
    "\n",
    "[3p] Let  𝑋\n",
    "  be the random variable that represents each SMS text (an entry in the list), and let  𝑌\n",
    "  represent whether text is spam or not i.e.  𝑌∈{0,1}\n",
    " . Thus  ℙ(𝑌=1)\n",
    "  is the probability that we get a spam. The goal is to estimate:\n",
    "ℙ(𝑌=1|\"free\" or \"prize\" is in 𝑋).\n",
    " \n",
    "That is, the probability that the SMS is spam given that \"free\" or \"prize\" occurs in the SMS. Hint: it is good to remove the upper/lower case of words so that we can also find \"Free\" and \"Prize\"; this can be done with text.lower() if text a string.\n",
    "[3p] Provide a \"90%\" interval of confidence around the true probability. I.e. use the Hoeffding inequality to obtain for your estimate  𝑃̂ \n",
    "  of the above quantity. Find  𝑙>0\n",
    "  such that the following holds:\n",
    "ℙ(𝑃̂ −𝑙≤𝔼[𝑃̂ ]≤𝑃̂ +𝑙)≥0.9.\n",
    " \n",
    "[2p] Repeat the two exercises above for \"free\" appearing twice in the SMS."
   ]
  },
  {
   "cell_type": "code",
   "execution_count": 38,
   "id": "e05677bf",
   "metadata": {},
   "outputs": [],
   "source": [
    "spam_no_spam = load_sms()"
   ]
  },
  {
   "cell_type": "code",
   "execution_count": 46,
   "id": "40a78cf6",
   "metadata": {},
   "outputs": [
    {
     "name": "stderr",
     "output_type": "stream",
     "text": [
      "IOPub data rate exceeded.\n",
      "The notebook server will temporarily stop sending output\n",
      "to the client in order to avoid crashing it.\n",
      "To change this limit, set the config variable\n",
      "`--NotebookApp.iopub_data_rate_limit`.\n",
      "\n",
      "Current values:\n",
      "NotebookApp.iopub_data_rate_limit=1000000.0 (bytes/sec)\n",
      "NotebookApp.rate_limit_window=3.0 (secs)\n",
      "\n"
     ]
    }
   ],
   "source": [
    "import numpy as np\n",
    "\n",
    "interesting_words=set(['free','prize'])\n",
    "TF10 = {True: 1, False: 0}\n",
    "Z_obs = [TF10[not interesting_words.isdisjoint([word.lower() for word in line[0].split(' ')])] for line in spam_no_spam]\n",
    "Y_obs = [y for x,y in spam_no_spam]\n",
    "X_obs = [X for x,y in spam_no_spam]\n",
    "problem4_hatP=np.mean([y for z,y in zip(Z_obs,Y_obs) if z == 1])\n",
    "# fill in the estimate for part 1 here (should be a number between 0 and 1)\n",
    "problem4_hatP\n",
    "print(X_obs)"
   ]
  },
  {
   "cell_type": "code",
   "execution_count": 40,
   "id": "9ac1cd12",
   "metadata": {},
   "outputs": [
    {
     "name": "stdout",
     "output_type": "stream",
     "text": [
      "[0.726,0.898]\n"
     ]
    }
   ],
   "source": [
    "def epsilon_bernoulli(n,alpha):\n",
    "    return np.sqrt(-1/(2*n)*np.log((alpha)/2))\n",
    "\n",
    "Y_mid_Z1 = [y for z,y in zip(Z_obs,Y_obs) if z == 1]\n",
    "\n",
    "problem4_l = epsilon_bernoulli(len(Y_mid_Z1),0.1)\n",
    "\n",
    "problem4_l\n",
    "# fill in the calculated l from part 2 here\n",
    "mean_Y_obs = np.mean(Y_mid_Z1)\n",
    "print(\"[%.3f,%.3f]\" % (mean_Y_obs-epsilon,mean_Y_obs+epsilon))"
   ]
  },
  {
   "cell_type": "code",
   "execution_count": 35,
   "id": "022a8c96",
   "metadata": {},
   "outputs": [
    {
     "data": {
      "text/plain": [
       "0.7626262626262627"
      ]
     },
     "execution_count": 35,
     "metadata": {},
     "output_type": "execute_result"
    }
   ],
   "source": [
    "interesting_words=set(['free','free'])\n",
    "TF10 = {True: 1, False: 0}\n",
    "Z_obs2 = [TF10[not interesting_words.isdisjoint([word.lower() for word in line[0].split(' ')])] for line in spam_no_spam]\n",
    "Y_obs2 = [y for x,y in spam_no_spam]\n",
    "problem4_hatP2=np.mean([y for z,y in zip(Z_obs2,Y_obs2) if z == 1])\n",
    "\n",
    "# fill in the estimate for hatP for the double free question in part 3 here (should be a number between 0 and 1)\n",
    "problem4_hatP2"
   ]
  },
  {
   "cell_type": "code",
   "execution_count": 38,
   "id": "9f8c53d5",
   "metadata": {},
   "outputs": [
    {
     "data": {
      "text/plain": [
       "0.08697689629305419"
      ]
     },
     "execution_count": 38,
     "metadata": {},
     "output_type": "execute_result"
    }
   ],
   "source": [
    "# fill in the estimate for l for the double free question in part 3 here\n",
    "Y_mid_Z2= [y for z,y in zip(Z_obs2,Y_obs2) if z == 1]\n",
    "problem4_l2 = epsilon_bernoulli(len(Y_mid_Z2),0.1)\n",
    "problem4_l2"
   ]
  },
  {
   "cell_type": "code",
   "execution_count": 15,
   "id": "6ae8f61b",
   "metadata": {},
   "outputs": [
    {
     "data": {
      "text/plain": [
       "0.808695652173913"
      ]
     },
     "execution_count": 15,
     "metadata": {},
     "output_type": "execute_result"
    }
   ],
   "source": [
    "# if we have spam sms the probability of getting 'free' or 'prize' in that spam sms\n",
    "def free_or_prize_in_txt(txt):\n",
    "    if 'free' in txt.lower() or 'prize' in txt.lower():\n",
    "        return 1\n",
    "    return 0\n",
    "\n",
    "free_or_prize_only_sms = [(txt, label) for txt,label in sms_data if free_or_prize_in_txt(txt)]\n",
    "sum([sms[1] for sms in free_or_prize_only_sms])/len(free_or_prize_only_sms)"
   ]
  },
  {
   "cell_type": "markdown",
   "id": "34922947",
   "metadata": {},
   "source": [
    "when we have two free words in sms how we get probability is as below"
   ]
  },
  {
   "cell_type": "code",
   "execution_count": 9,
   "id": "63767688",
   "metadata": {},
   "outputs": [],
   "source": [
    "def free2_in_txt(txt):\n",
    "    # Count the occurrences of the word 'free' in lowercase\n",
    "    count_free = txt.lower().count('free')\n",
    "\n",
    "    # Return 1 if the count is equal to or greater than 2\n",
    "    if count_free == 2:\n",
    "        return 1\n",
    "\n",
    "    # Return 0 otherwise\n",
    "    return 0"
   ]
  },
  {
   "cell_type": "code",
   "execution_count": 10,
   "id": "e59dd221",
   "metadata": {},
   "outputs": [
    {
     "data": {
      "text/plain": [
       "0.9736842105263158"
      ]
     },
     "execution_count": 10,
     "metadata": {},
     "output_type": "execute_result"
    }
   ],
   "source": [
    "free2_only_sms = [(txt, label) for txt,label in sms_data if free2_in_txt(txt)]\n",
    "sum([sms[1] for sms in free2_only_sms])/len(free2_only_sms)"
   ]
  },
  {
   "cell_type": "markdown",
   "id": "3f83108a",
   "metadata": {},
   "source": [
    "When two free and one prize appear in the dataset"
   ]
  },
  {
   "cell_type": "code",
   "execution_count": 18,
   "id": "24f99ad3",
   "metadata": {},
   "outputs": [],
   "source": [
    "def two_free_or_at_least_one_prize_in_txt(txt):\n",
    "    # Count the occurrences of 'free' and 'prize' in lowercase\n",
    "    count_free = txt.lower().count('free')\n",
    "    count_prize = txt.lower().count('prize')\n",
    "\n",
    "    # Return 1 if 'free' appears two or more times or 'prize' appears at least once\n",
    "    if count_free == 2 or count_prize == 1:\n",
    "        return 1\n",
    "\n",
    "    # Return 0 otherwise\n",
    "    return 0"
   ]
  },
  {
   "cell_type": "code",
   "execution_count": 19,
   "id": "613d6257",
   "metadata": {},
   "outputs": [
    {
     "data": {
      "text/plain": [
       "0.9913793103448276"
      ]
     },
     "execution_count": 19,
     "metadata": {},
     "output_type": "execute_result"
    }
   ],
   "source": [
    "free2_prize_sms = [(txt, label) for txt,label in sms_data if two_free_or_at_least_one_prize_in_txt(txt)]\n",
    "sum([sms[1] for sms in free2_prize_sms])/len(free2_prize_sms)"
   ]
  },
  {
   "cell_type": "code",
   "execution_count": 13,
   "id": "bca1a28a",
   "metadata": {},
   "outputs": [
    {
     "data": {
      "text/plain": [
       "0.006640344580043073"
      ]
     },
     "execution_count": 13,
     "metadata": {},
     "output_type": "execute_result"
    }
   ],
   "source": []
  },
  {
   "cell_type": "code",
   "execution_count": 14,
   "id": "30323b08",
   "metadata": {},
   "outputs": [
    {
     "data": {
      "text/plain": [
       "0.9736842105263158"
      ]
     },
     "execution_count": 14,
     "metadata": {},
     "output_type": "execute_result"
    }
   ],
   "source": []
  },
  {
   "cell_type": "code",
   "execution_count": null,
   "id": "3c1fa4eb",
   "metadata": {},
   "outputs": [],
   "source": []
  }
 ],
 "metadata": {
  "kernelspec": {
   "display_name": "Python 3 (ipykernel)",
   "language": "python",
   "name": "python3"
  },
  "language_info": {
   "codemirror_mode": {
    "name": "ipython",
    "version": 3
   },
   "file_extension": ".py",
   "mimetype": "text/x-python",
   "name": "python",
   "nbconvert_exporter": "python",
   "pygments_lexer": "ipython3",
   "version": "3.11.4"
  }
 },
 "nbformat": 4,
 "nbformat_minor": 5
}
